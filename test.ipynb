{
 "cells": [
  {
   "cell_type": "code",
   "execution_count": 3,
   "metadata": {
    "editable": true
   },
   "outputs": [],
   "source": [
    "import pandas as pd\n",
    "import cassandra"
   ]
  },
  {
   "cell_type": "code",
   "execution_count": 4,
   "metadata": {
    "editable": true
   },
   "outputs": [],
   "source": [
    "# This should make a connection to a Cassandra instance your local machine \n",
    "# (127.0.0.1)\n",
    "\n",
    "from cassandra.cluster import Cluster\n",
    "\n",
    "cluster = Cluster(['127.0.0.1'])\n",
    "\n",
    "# To establish connection and begin executing queries, need a session\n",
    "session = cluster.connect()\n",
    "\n",
    "# Set KEYSPACE to the keyspace specified above\n",
    "session.set_keyspace('music_songs')"
   ]
  },
  {
   "cell_type": "code",
   "execution_count": 5,
   "metadata": {
    "editable": true
   },
   "outputs": [
    {
     "name": "stdout",
     "output_type": "stream",
     "text": [
      "sessionId:338 | iteminsession:3 | artist:Mike And The Mechanics | song:A Beggar On A Beach Of Gold | length: 275.1211853027344\n",
      "**********************************************************************\n"
     ]
    }
   ],
   "source": [
    "## SELECT statement to verify the data was entered into the table song_per_session\n",
    "query_select = \"SELECT * FROM song_per_session WHERE sessionId = 338 AND iteminsession = 3\"\n",
    "\n",
    "try:\n",
    "    row = session.execute(query_select)\n",
    "except Exception as e:\n",
    "    print(e)\n",
    "for r in row:\n",
    "    print(\"sessionId:{} | iteminsession:{} | artist:{} | song:{} | length: {}\".format(r.sessionid, r.iteminsession,r.artist, r.song, r.length))\n",
    "    print(\"*\"*70)"
   ]
  },
  {
   "cell_type": "code",
   "execution_count": 6,
   "metadata": {
    "editable": true
   },
   "outputs": [
    {
     "name": "stdout",
     "output_type": "stream",
     "text": [
      "artist:Down To The Bone | song: Keep On Keepin' On | firstname:Sylvie | lastname:Cruz\n",
      "**********************************************************************\n",
      "artist:Three Drives | song: Greece 2000 | firstname:Sylvie | lastname:Cruz\n",
      "**********************************************************************\n",
      "artist:Sebastien Tellier | song: Kilometer | firstname:Sylvie | lastname:Cruz\n",
      "**********************************************************************\n",
      "artist:Lonnie Gordon | song: Catch You Baby (Steve Pitron & Max Sanna Radio Edit) | firstname:Sylvie | lastname:Cruz\n",
      "**********************************************************************\n"
     ]
    }
   ],
   "source": [
    "## SELECT statement to verify the data was entered into the table user_listened\n",
    "\n",
    "query_select2 = \"SELECT artist, song, firstname, lastname FROM user_listened WHERE userId = 10 AND sessionId = 182\"\n",
    "\n",
    "try:\n",
    "    row = session.execute(query_select2)\n",
    "except Exception as e:\n",
    "    print(e)\n",
    "    \n",
    "for r in row:\n",
    "    print(\"artist:{} | song: {} | firstname:{} | lastname:{}\".format(r.artist, r.song, r.firstname, r.lastname))\n",
    "    print(\"*\"*70)"
   ]
  },
  {
   "cell_type": "code",
   "execution_count": 7,
   "metadata": {
    "editable": true
   },
   "outputs": [
    {
     "name": "stdout",
     "output_type": "stream",
     "text": [
      "firtname:Tegan | lastname:Levine | song:All Hands Against His Own\n",
      "**********************************************************************\n"
     ]
    }
   ],
   "source": [
    "## SELECT statement to verify the data was entered into the table wholistened_theSong\n",
    "\n",
    "query_select3 = \"SELECT song, firstname , lastname \\\n",
    "FROM wholistened_theSong WHERE song = 'All Hands Against His Own'\"\n",
    "try:\n",
    "    row = session.execute(query_select3)\n",
    "except Exception as e:\n",
    "    print(e)\n",
    "    \n",
    "for r in row:\n",
    "    print(\"firtname:{} | lastname:{} | song:{}\".format(r.firstname,  r.lastname, r.song))\n",
    "    print(\"*\"*70)"
   ]
  },
  {
   "cell_type": "code",
   "execution_count": 8,
   "metadata": {
    "editable": true
   },
   "outputs": [],
   "source": [
    "session.shutdown()\n",
    "cluster.shutdown()"
   ]
  },
  {
   "cell_type": "code",
   "execution_count": null,
   "metadata": {
    "editable": true
   },
   "outputs": [],
   "source": []
  }
 ],
 "metadata": {
  "kernelspec": {
   "display_name": "Python 3",
   "language": "python",
   "name": "python3"
  },
  "language_info": {
   "codemirror_mode": {
    "name": "ipython",
    "version": 3
   },
   "file_extension": ".py",
   "mimetype": "text/x-python",
   "name": "python",
   "nbconvert_exporter": "python",
   "pygments_lexer": "ipython3",
   "version": "3.6.3"
  }
 },
 "nbformat": 4,
 "nbformat_minor": 4
}
